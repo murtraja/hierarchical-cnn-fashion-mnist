{
 "cells": [
  {
   "cell_type": "code",
   "execution_count": 2,
   "metadata": {
    "colab": {
     "base_uri": "https://localhost:8080/",
     "height": 34
    },
    "colab_type": "code",
    "id": "G3_r9Qm7B-xK",
    "outputId": "850b9fbe-9bba-486f-d26f-e1a797cfa8ef"
   },
   "outputs": [
    {
     "name": "stderr",
     "output_type": "stream",
     "text": [
      "Using TensorFlow backend.\n"
     ]
    }
   ],
   "source": [
    "import pickle\n",
    "import os\n",
    "\n",
    "\n",
    "# Helper libraries\n",
    "import numpy as np\n",
    "import matplotlib.pyplot as plt\n",
    "\n",
    "import tensorflow as tf\n",
    "from tensorflow import keras\n",
    "from keras.models import Model\n",
    "from keras.layers import Dense, Dropout, Activation, Flatten\n",
    "from keras.layers import Conv2D, MaxPooling2D, Input\n",
    "from keras.initializers import he_normal\n",
    "from keras import optimizers\n",
    "from keras.callbacks import LearningRateScheduler, TensorBoard\n",
    "from keras.layers.normalization import BatchNormalization\n",
    "from keras.utils import to_categorical\n",
    "from keras.utils.data_utils import get_file\n",
    "from keras import backend as K"
   ]
  },
  {
   "cell_type": "code",
   "execution_count": null,
   "metadata": {},
   "outputs": [],
   "source": []
  },
  {
   "cell_type": "code",
   "execution_count": 3,
   "metadata": {
    "colab": {
     "base_uri": "https://localhost:8080/",
     "height": 156
    },
    "colab_type": "code",
    "id": "TxaqVwLvEd5h",
    "outputId": "a4cab9eb-0513-4fc6-92e8-71c266847ca6"
   },
   "outputs": [
    {
     "name": "stdout",
     "output_type": "stream",
     "text": [
      "Downloading data from https://storage.googleapis.com/tensorflow/tf-keras-datasets/train-labels-idx1-ubyte.gz\n",
      "32768/29515 [=================================] - 0s 0us/step\n",
      "Downloading data from https://storage.googleapis.com/tensorflow/tf-keras-datasets/train-images-idx3-ubyte.gz\n",
      "26427392/26421880 [==============================] - 0s 0us/step\n",
      "Downloading data from https://storage.googleapis.com/tensorflow/tf-keras-datasets/t10k-labels-idx1-ubyte.gz\n",
      "8192/5148 [===============================================] - 0s 0us/step\n",
      "Downloading data from https://storage.googleapis.com/tensorflow/tf-keras-datasets/t10k-images-idx3-ubyte.gz\n",
      "4423680/4422102 [==============================] - 0s 0us/step\n"
     ]
    }
   ],
   "source": [
    "fashion_mnist = keras.datasets.fashion_mnist\n",
    "\n",
    "(train_images, train_labels), (test_images, test_labels) = fashion_mnist.load_data()"
   ]
  },
  {
   "cell_type": "code",
   "execution_count": 0,
   "metadata": {
    "colab": {},
    "colab_type": "code",
    "id": "SVglyynJEpir"
   },
   "outputs": [],
   "source": [
    "class_names = ['T-shirt/top', 'Trouser', 'Pullover', 'Dress', 'Coat',\n",
    "               'Sandal', 'Shirt', 'Sneaker', 'Bag', 'Ankle boot']"
   ]
  },
  {
   "cell_type": "code",
   "execution_count": 5,
   "metadata": {
    "colab": {
     "base_uri": "https://localhost:8080/",
     "height": 34
    },
    "colab_type": "code",
    "id": "12W7W8OTEzha",
    "outputId": "263d3b6c-4282-4492-e81c-b9f2ca3998c0"
   },
   "outputs": [
    {
     "data": {
      "text/plain": [
       "(60000, 28, 28)"
      ]
     },
     "execution_count": 5,
     "metadata": {
      "tags": []
     },
     "output_type": "execute_result"
    }
   ],
   "source": [
    "\n",
    "\n",
    "train_images.shape\n",
    "\n"
   ]
  },
  {
   "cell_type": "code",
   "execution_count": 6,
   "metadata": {
    "colab": {
     "base_uri": "https://localhost:8080/",
     "height": 34
    },
    "colab_type": "code",
    "id": "5bo9PfghE45S",
    "outputId": "64625097-8b5e-4153-82b7-091937fe948e"
   },
   "outputs": [
    {
     "data": {
      "text/plain": [
       "60000"
      ]
     },
     "execution_count": 6,
     "metadata": {
      "tags": []
     },
     "output_type": "execute_result"
    }
   ],
   "source": [
    "\n",
    "\n",
    "len(train_labels)\n",
    "\n"
   ]
  },
  {
   "cell_type": "code",
   "execution_count": 7,
   "metadata": {
    "colab": {
     "base_uri": "https://localhost:8080/",
     "height": 34
    },
    "colab_type": "code",
    "id": "cEVuQ9fjE-aH",
    "outputId": "2890cc46-ef95-4c7e-9844-05c067672afe"
   },
   "outputs": [
    {
     "data": {
      "text/plain": [
       "array([9, 0, 0, ..., 3, 0, 5], dtype=uint8)"
      ]
     },
     "execution_count": 7,
     "metadata": {
      "tags": []
     },
     "output_type": "execute_result"
    }
   ],
   "source": [
    "train_labels"
   ]
  },
  {
   "cell_type": "code",
   "execution_count": 8,
   "metadata": {
    "colab": {
     "base_uri": "https://localhost:8080/",
     "height": 34
    },
    "colab_type": "code",
    "id": "d5s2SzlEFCRK",
    "outputId": "68b0917e-37d7-4008-dd34-d0a13f42e88e"
   },
   "outputs": [
    {
     "data": {
      "text/plain": [
       "(10000, 28, 28)"
      ]
     },
     "execution_count": 8,
     "metadata": {
      "tags": []
     },
     "output_type": "execute_result"
    }
   ],
   "source": [
    "test_images.shape"
   ]
  },
  {
   "cell_type": "code",
   "execution_count": 9,
   "metadata": {
    "colab": {
     "base_uri": "https://localhost:8080/",
     "height": 34
    },
    "colab_type": "code",
    "id": "IFom1MAZFDeo",
    "outputId": "e7f49989-ccaa-4b40-be76-45073982540c"
   },
   "outputs": [
    {
     "data": {
      "text/plain": [
       "10000"
      ]
     },
     "execution_count": 9,
     "metadata": {
      "tags": []
     },
     "output_type": "execute_result"
    }
   ],
   "source": [
    "len(test_labels)"
   ]
  },
  {
   "cell_type": "code",
   "execution_count": 10,
   "metadata": {
    "colab": {
     "base_uri": "https://localhost:8080/",
     "height": 265
    },
    "colab_type": "code",
    "id": "zt1bTXPaFLaN",
    "outputId": "164f716e-82aa-47c6-dfcf-bbae0171a663"
   },
   "outputs": [
    {
     "data": {
      "image/png": "[encoded data removed]",
      "text/plain": [
       "<Figure size 432x288 with 2 Axes>"
      ]
     },
     "metadata": {
      "needs_background": "light",
      "tags": []
     },
     "output_type": "display_data"
    }
   ],
   "source": [
    "plt.figure()\n",
    "plt.imshow(train_images[0])\n",
    "plt.colorbar()\n",
    "plt.grid(False)\n",
    "plt.show()"
   ]
  },
  {
   "cell_type": "code",
   "execution_count": 0,
   "metadata": {
    "colab": {},
    "colab_type": "code",
    "id": "zEIif-RwFO3z"
   },
   "outputs": [],
   "source": [
    "train_images = train_images / 255.0\n",
    "\n",
    "test_images = test_images / 255.0"
   ]
  },
  {
   "cell_type": "code",
   "execution_count": 12,
   "metadata": {
    "colab": {
     "base_uri": "https://localhost:8080/",
     "height": 589
    },
    "colab_type": "code",
    "id": "MgqvCJRIFZz_",
    "outputId": "20086c8f-8e5c-45be-83fd-89f87e66a513"
   },
   "outputs": [
    {
     "data": {
      "image/png": "[encoded data removed]",
      "text/plain": [
       "<Figure size 720x720 with 25 Axes>"
      ]
     },
     "metadata": {
      "tags": []
     },
     "output_type": "display_data"
    }
   ],
   "source": [
    "\n",
    "\n",
    "plt.figure(figsize=(10,10))\n",
    "for i in range(25):\n",
    "    plt.subplot(5,5,i+1)\n",
    "    plt.xticks([])\n",
    "    plt.yticks([])\n",
    "    plt.grid(False)\n",
    "    plt.imshow(train_images[i], cmap=plt.cm.binary)\n",
    "    plt.xlabel(class_names[train_labels[i]])\n",
    "plt.show()\n",
    "\n"
   ]
  },
  {
   "cell_type": "code",
   "execution_count": 0,
   "metadata": {
    "colab": {},
    "colab_type": "code",
    "id": "fOAIxr5PFdaM"
   },
   "outputs": [],
   "source": [
    "model = keras.Sequential([\n",
    "    keras.layers.Flatten(input_shape=(28, 28)),\n",
    "    keras.layers.Dense(128, activation='relu'),\n",
    "    keras.layers.Dense(10)\n",
    "])"
   ]
  },
  {
   "cell_type": "code",
   "execution_count": 0,
   "metadata": {
    "colab": {},
    "colab_type": "code",
    "id": "L6t9lblwFtnp"
   },
   "outputs": [],
   "source": [
    "model.compile(optimizer='adam',\n",
    "              loss=tf.keras.losses.SparseCategoricalCrossentropy(from_logits=True),\n",
    "              metrics=['accuracy'])"
   ]
  },
  {
   "cell_type": "code",
   "execution_count": 15,
   "metadata": {
    "colab": {
     "base_uri": "https://localhost:8080/",
     "height": 382
    },
    "colab_type": "code",
    "id": "TtrMsBPSF0Jh",
    "outputId": "cd8a0e95-8eed-4aa2-fe1f-0a9254558cb6"
   },
   "outputs": [
    {
     "name": "stdout",
     "output_type": "stream",
     "text": [
      "Epoch 1/10\n",
      "1875/1875 [==============================] - 3s 2ms/step - loss: 0.4972 - accuracy: 0.8255\n",
      "Epoch 2/10\n",
      "1875/1875 [==============================] - 3s 2ms/step - loss: 0.3770 - accuracy: 0.8641\n",
      "Epoch 3/10\n",
      "1875/1875 [==============================] - 3s 2ms/step - loss: 0.3382 - accuracy: 0.8769\n",
      "Epoch 4/10\n",
      "1875/1875 [==============================] - 3s 2ms/step - loss: 0.3125 - accuracy: 0.8851\n",
      "Epoch 5/10\n",
      "1875/1875 [==============================] - 3s 2ms/step - loss: 0.2955 - accuracy: 0.8910\n",
      "Epoch 6/10\n",
      "1875/1875 [==============================] - 3s 2ms/step - loss: 0.2786 - accuracy: 0.8967\n",
      "Epoch 7/10\n",
      "1875/1875 [==============================] - 3s 2ms/step - loss: 0.2684 - accuracy: 0.9010\n",
      "Epoch 8/10\n",
      "1875/1875 [==============================] - 3s 2ms/step - loss: 0.2556 - accuracy: 0.9041\n",
      "Epoch 9/10\n",
      "1875/1875 [==============================] - 3s 2ms/step - loss: 0.2479 - accuracy: 0.9082\n",
      "Epoch 10/10\n",
      "1875/1875 [==============================] - 3s 2ms/step - loss: 0.2383 - accuracy: 0.9102\n"
     ]
    },
    {
     "data": {
      "text/plain": [
       "<tensorflow.python.keras.callbacks.History at 0x7f8a3a65d5c0>"
      ]
     },
     "execution_count": 15,
     "metadata": {
      "tags": []
     },
     "output_type": "execute_result"
    }
   ],
   "source": [
    "model.fit(train_images, train_labels, epochs=10)"
   ]
  },
  {
   "cell_type": "code",
   "execution_count": 16,
   "metadata": {
    "colab": {
     "base_uri": "https://localhost:8080/",
     "height": 69
    },
    "colab_type": "code",
    "id": "LvVT9rohGkYo",
    "outputId": "18edd4a8-b371-4b3c-a759-74f15f4fc260"
   },
   "outputs": [
    {
     "name": "stdout",
     "output_type": "stream",
     "text": [
      "313/313 - 1s - loss: 0.3506 - accuracy: 0.8755\n",
      "\n",
      "Test accuracy: 0.8755000233650208\n"
     ]
    }
   ],
   "source": [
    "test_loss, test_acc = model.evaluate(test_images,  test_labels, verbose=2)\n",
    "\n",
    "print('\\nTest accuracy:', test_acc)"
   ]
  },
  {
   "cell_type": "code",
   "execution_count": 0,
   "metadata": {
    "colab": {},
    "colab_type": "code",
    "id": "f3hcJig0GrfA"
   },
   "outputs": [],
   "source": [
    "probability_model = tf.keras.Sequential([model, \n",
    "                                         tf.keras.layers.Softmax()])\n"
   ]
  },
  {
   "cell_type": "code",
   "execution_count": 0,
   "metadata": {
    "colab": {},
    "colab_type": "code",
    "id": "vfjFlpzSGzcZ"
   },
   "outputs": [],
   "source": [
    "predictions = probability_model.predict(test_images)"
   ]
  },
  {
   "cell_type": "code",
   "execution_count": 19,
   "metadata": {
    "colab": {
     "base_uri": "https://localhost:8080/",
     "height": 69
    },
    "colab_type": "code",
    "id": "axUmW7LuG3R8",
    "outputId": "d3e3011b-44d4-4b65-d4aa-a107646c4fa7"
   },
   "outputs": [
    {
     "data": {
      "text/plain": [
       "array([1.61991102e-05, 3.52174470e-11, 1.87787617e-08, 1.37943444e-12,\n",
       "       1.70843534e-10, 9.64727905e-03, 6.84815006e-07, 2.00739130e-03,\n",
       "       1.34137945e-08, 9.88328457e-01], dtype=float32)"
      ]
     },
     "execution_count": 19,
     "metadata": {
      "tags": []
     },
     "output_type": "execute_result"
    }
   ],
   "source": [
    "\n",
    "predictions[0]"
   ]
  },
  {
   "cell_type": "code",
   "execution_count": 20,
   "metadata": {
    "colab": {
     "base_uri": "https://localhost:8080/",
     "height": 34
    },
    "colab_type": "code",
    "id": "9wSsSUp1G-zW",
    "outputId": "2628d93d-6fcb-4c8d-f242-709dd3a4e706"
   },
   "outputs": [
    {
     "data": {
      "text/plain": [
       "9"
      ]
     },
     "execution_count": 20,
     "metadata": {
      "tags": []
     },
     "output_type": "execute_result"
    }
   ],
   "source": [
    "\n",
    "np.argmax(predictions[0])"
   ]
  },
  {
   "cell_type": "code",
   "execution_count": 21,
   "metadata": {
    "colab": {
     "base_uri": "https://localhost:8080/",
     "height": 34
    },
    "colab_type": "code",
    "id": "4sWKN2AVHFSJ",
    "outputId": "cefd5b25-9342-4d74-fbd5-032f50e446ef"
   },
   "outputs": [
    {
     "data": {
      "text/plain": [
       "9"
      ]
     },
     "execution_count": 21,
     "metadata": {
      "tags": []
     },
     "output_type": "execute_result"
    }
   ],
   "source": [
    "\n",
    "test_labels[0]"
   ]
  },
  {
   "cell_type": "code",
   "execution_count": 0,
   "metadata": {
    "colab": {},
    "colab_type": "code",
    "id": "6DBFYGM5HRYJ"
   },
   "outputs": [],
   "source": [
    "def plot_image(i, predictions_array, true_label, img):\n",
    "  predictions_array, true_label, img = predictions_array, true_label[i], img[i]\n",
    "  plt.grid(False)\n",
    "  plt.xticks([])\n",
    "  plt.yticks([])\n",
    "\n",
    "  plt.imshow(img, cmap=plt.cm.binary)\n",
    "\n",
    "  predicted_label = np.argmax(predictions_array)\n",
    "  if predicted_label == true_label:\n",
    "    color = 'blue'\n",
    "  else:\n",
    "    color = 'red'\n",
    "\n",
    "  plt.xlabel(\"{} {:2.0f}% ({})\".format(class_names[predicted_label],\n",
    "                                100*np.max(predictions_array),\n",
    "                                class_names[true_label]),\n",
    "                                color=color)\n",
    "\n",
    "def plot_value_array(i, predictions_array, true_label):\n",
    "  predictions_array, true_label = predictions_array, true_label[i]\n",
    "  plt.grid(False)\n",
    "  plt.xticks(range(10))\n",
    "  plt.yticks([])\n",
    "  thisplot = plt.bar(range(10), predictions_array, color=\"#777777\")\n",
    "  plt.ylim([0, 1])\n",
    "  predicted_label = np.argmax(predictions_array)\n",
    "\n",
    "  thisplot[predicted_label].set_color('red')\n",
    "  thisplot[true_label].set_color('blue')"
   ]
  },
  {
   "cell_type": "code",
   "execution_count": 23,
   "metadata": {
    "colab": {
     "base_uri": "https://localhost:8080/",
     "height": 211
    },
    "colab_type": "code",
    "id": "jmvIDhokHWwk",
    "outputId": "91ff3ba2-b03d-4d9e-992f-eb719d2463db"
   },
   "outputs": [
    {
     "data": {
      "image/png": "[encoded data removed]",
      "text/plain": [
       "<Figure size 432x216 with 2 Axes>"
      ]
     },
     "metadata": {
      "needs_background": "light",
      "tags": []
     },
     "output_type": "display_data"
    }
   ],
   "source": [
    "\n",
    "i = 0\n",
    "plt.figure(figsize=(6,3))\n",
    "plt.subplot(1,2,1)\n",
    "plot_image(i, predictions[i], test_labels, test_images)\n",
    "plt.subplot(1,2,2)\n",
    "plot_value_array(i, predictions[i],  test_labels)\n",
    "plt.show()"
   ]
  },
  {
   "cell_type": "code",
   "execution_count": 24,
   "metadata": {
    "colab": {
     "base_uri": "https://localhost:8080/",
     "height": 211
    },
    "colab_type": "code",
    "id": "AqoJpHsoHamQ",
    "outputId": "3eec5fa3-efd5-400a-f825-9397da4dfea2"
   },
   "outputs": [
    {
     "data": {
      "image/png": "[encoded data removed]",
      "text/plain": [
       "<Figure size 432x216 with 2 Axes>"
      ]
     },
     "metadata": {
      "needs_background": "light",
      "tags": []
     },
     "output_type": "display_data"
    }
   ],
   "source": [
    "\n",
    "i = 12\n",
    "plt.figure(figsize=(6,3))\n",
    "plt.subplot(1,2,1)\n",
    "plot_image(i, predictions[i], test_labels, test_images)\n",
    "plt.subplot(1,2,2)\n",
    "plot_value_array(i, predictions[i],  test_labels)\n",
    "plt.show()"
   ]
  },
  {
   "cell_type": "code",
   "execution_count": 25,
   "metadata": {
    "colab": {
     "base_uri": "https://localhost:8080/",
     "height": 729
    },
    "colab_type": "code",
    "id": "XMnVkN6dHqEi",
    "outputId": "f5922b70-015f-4016-b21b-cc1ae31f61c0"
   },
   "outputs": [
    {
     "data": {
      "image/png": "[encoded data removed]",
      "text/plain": [
       "<Figure size 864x720 with 30 Axes>"
      ]
     },
     "metadata": {
      "needs_background": "light",
      "tags": []
     },
     "output_type": "display_data"
    }
   ],
   "source": [
    "# Plot the first X test images, their predicted labels, and the true labels.\n",
    "# Color correct predictions in blue and incorrect predictions in red.\n",
    "num_rows = 5\n",
    "num_cols = 3\n",
    "num_images = num_rows*num_cols\n",
    "plt.figure(figsize=(2*2*num_cols, 2*num_rows))\n",
    "for i in range(num_images):\n",
    "  plt.subplot(num_rows, 2*num_cols, 2*i+1)\n",
    "  plot_image(i, predictions[i], test_labels, test_images)\n",
    "  plt.subplot(num_rows, 2*num_cols, 2*i+2)\n",
    "  plot_value_array(i, predictions[i], test_labels)\n",
    "plt.tight_layout()\n",
    "plt.show()"
   ]
  },
  {
   "cell_type": "code",
   "execution_count": 0,
   "metadata": {
    "colab": {},
    "colab_type": "code",
    "id": "tLO-KttfH1fy"
   },
   "outputs": [],
   "source": []
  },
  {
   "cell_type": "code",
   "execution_count": 26,
   "metadata": {
    "colab": {
     "base_uri": "https://localhost:8080/",
     "height": 34
    },
    "colab_type": "code",
    "id": "1SzbyBmQH7x-",
    "outputId": "a00c760c-b426-4e11-c223-085007a79ad4"
   },
   "outputs": [
    {
     "name": "stdout",
     "output_type": "stream",
     "text": [
      "(28, 28)\n"
     ]
    }
   ],
   "source": [
    "# Grab an image from the test dataset.\n",
    "img = test_images[1]\n",
    "\n",
    "print(img.shape)"
   ]
  },
  {
   "cell_type": "code",
   "execution_count": 27,
   "metadata": {
    "colab": {
     "base_uri": "https://localhost:8080/",
     "height": 34
    },
    "colab_type": "code",
    "id": "BS0PmvLNH_0n",
    "outputId": "d7a3a9bb-9cf9-44cb-bcc1-3539ec4dac6c"
   },
   "outputs": [
    {
     "name": "stdout",
     "output_type": "stream",
     "text": [
      "(1, 28, 28)\n"
     ]
    }
   ],
   "source": [
    "# Add the image to a batch where it's the only member.\n",
    "img = (np.expand_dims(img,0))\n",
    "\n",
    "print(img.shape)"
   ]
  },
  {
   "cell_type": "code",
   "execution_count": 28,
   "metadata": {
    "colab": {
     "base_uri": "https://localhost:8080/",
     "height": 52
    },
    "colab_type": "code",
    "id": "yBW6kccwIDQa",
    "outputId": "6b7f9c53-840e-4c8c-86ec-c61adcec3a39"
   },
   "outputs": [
    {
     "name": "stdout",
     "output_type": "stream",
     "text": [
      "[[9.7632685e-05 1.3854554e-12 9.9972588e-01 3.1008829e-09 7.8932841e-05\n",
      "  7.5466261e-13 9.7561300e-05 2.0310308e-13 2.7971190e-11 5.4571972e-13]]\n"
     ]
    }
   ],
   "source": [
    "\n",
    "predictions_single = probability_model.predict(img)\n",
    "\n",
    "print(predictions_single)"
   ]
  },
  {
   "cell_type": "code",
   "execution_count": 29,
   "metadata": {
    "colab": {
     "base_uri": "https://localhost:8080/",
     "height": 300
    },
    "colab_type": "code",
    "id": "ZXCnCBhMIIM6",
    "outputId": "2d09ca64-a886-4cfa-f710-f25a88e2b967"
   },
   "outputs": [
    {
     "data": {
      "image/png": "[encoded data removed]",
      "text/plain": [
       "<Figure size 432x288 with 1 Axes>"
      ]
     },
     "metadata": {
      "needs_background": "light",
      "tags": []
     },
     "output_type": "display_data"
    }
   ],
   "source": [
    "plot_value_array(1, predictions_single[0], test_labels)\n",
    "_ = plt.xticks(range(10), class_names, rotation=45)"
   ]
  },
  {
   "cell_type": "code",
   "execution_count": 30,
   "metadata": {
    "colab": {
     "base_uri": "https://localhost:8080/",
     "height": 34
    },
    "colab_type": "code",
    "id": "igDOmX3NIMxY",
    "outputId": "5aaf2805-2e82-4ae6-9b74-81a14db28dba"
   },
   "outputs": [
    {
     "data": {
      "text/plain": [
       "2"
      ]
     },
     "execution_count": 30,
     "metadata": {
      "tags": []
     },
     "output_type": "execute_result"
    }
   ],
   "source": [
    "np.argmax(predictions_single[0])"
   ]
  },
  {
   "cell_type": "code",
   "execution_count": 0,
   "metadata": {
    "colab": {},
    "colab_type": "code",
    "id": "DS-8FYRQKfvm"
   },
   "outputs": [],
   "source": [
    "#-----data dir----\n",
    "data_dir = \"./data\"\n",
    "#-----------------"
   ]
  },
  {
   "cell_type": "code",
   "execution_count": 0,
   "metadata": {
    "colab": {},
    "colab_type": "code",
    "id": "ZTY4k645KpOV"
   },
   "outputs": [],
   "source": [
    "def scheduler(epoch):\n",
    "  learning_rate_init = 0.001\n",
    "  if epoch > 42:\n",
    "    learning_rate_init = 0.0002\n",
    "  if epoch > 52:\n",
    "    learning_rate_init = 0.00005\n",
    "  return learning_rate_init\n",
    "\n",
    "def unpickle(filename):\n",
    "  file = os.path.join(data_dir, filename)\n",
    "  with open(file, 'rb') as fo:\n",
    "    dict = pickle.load(fo, encoding='bytes')\n",
    "  return dict\n",
    "\n",
    "class LossWeightsModifier(keras.callbacks.Callback):\n",
    "  def __init__(self, alpha, beta, gamma):\n",
    "    self.alpha = alpha\n",
    "    self.beta = beta\n",
    "    self.gamma = gamma\n",
    "    # customize your behavior\n",
    "  def on_epoch_end(self, epoch, logs={}):\n",
    "    if epoch == 15:\n",
    "      K.set_value(self.alpha, 0.1)\n",
    "      K.set_value(self.beta, 0.8)\n",
    "      K.set_value(self.gamma, 0.1)\n",
    "    if epoch == 25:\n",
    "      K.set_value(self.alpha, 0.1)\n",
    "      K.set_value(self.beta, 0.2)\n",
    "      K.set_value(self.gamma, 0.7)\n",
    "    if epoch == 35:\n",
    "      K.set_value(self.alpha, 0)\n",
    "      K.set_value(self.beta, 0)\n",
    "      K.set_value(self.gamma, 1)"
   ]
  },
  {
   "cell_type": "code",
   "execution_count": 0,
   "metadata": {
    "colab": {},
    "colab_type": "code",
    "id": "VuT3IoSDKuLy"
   },
   "outputs": [],
   "source": [
    "#-------- dimensions ---------\n",
    "height, width = 28, 28\n",
    "channel = 1\n",
    "if K.image_data_format() == 'channels_first':\n",
    "    input_shape = (channel, height, width)\n",
    "else:\n",
    "    input_shape = (height, width, channel)\n",
    "#-----------------------------"
   ]
  },
  {
   "cell_type": "code",
   "execution_count": 0,
   "metadata": {
    "colab": {},
    "colab_type": "code",
    "id": "gfGJLjHXKxei"
   },
   "outputs": [],
   "source": [
    "train_size = 60000\n",
    "test_size = 10000\n",
    "\n",
    "#--- coarse 1 classes ---\n",
    "coarse1_classes = 2\n",
    "#--- coarse 2 classes ---\n",
    "coarse2_classes = 6\n",
    "#--- fine classes ---\n",
    "num_classes  = 10\n",
    "\n",
    "batch_size   = 128\n",
    "epochs       = 60"
   ]
  },
  {
   "cell_type": "code",
   "execution_count": 0,
   "metadata": {
    "colab": {},
    "colab_type": "code",
    "id": "vZe4N_7LK1nG"
   },
   "outputs": [],
   "source": [
    "#--- file paths ---\n",
    "log_filepath = './tb_log_vgg19_hierarchy_dynamic/'\n",
    "weights_store_filepath = './vgg19_weights_hierarchy_dynamic/'\n",
    "retrain_id = '101'\n",
    "model_name = 'weights_vgg19_dynamic_cifar_100_'+retrain_id+'.h5'\n",
    "model_path = os.path.join(weights_store_filepath, model_name)"
   ]
  },
  {
   "cell_type": "code",
   "execution_count": 36,
   "metadata": {
    "colab": {
     "base_uri": "https://localhost:8080/",
     "height": 52
    },
    "colab_type": "code",
    "id": "oWgM0sJOLVe0",
    "outputId": "b8174eb9-5472-4620-d4cb-dd69359225f8"
   },
   "outputs": [
    {
     "name": "stdout",
     "output_type": "stream",
     "text": [
      "Downloading data from https://github.com/fchollet/deep-learning-models/releases/download/v0.1/vgg19_weights_tf_dim_ordering_tf_kernels.h5\n",
      "574717952/574710816 [==============================] - 27s 0us/step\n"
     ]
    }
   ],
   "source": [
    "#----------get VGG19 pre-trained weights--------\n",
    "WEIGHTS_PATH = 'https://github.com/fchollet/deep-learning-models/releases/download/v0.1/vgg19_weights_tf_dim_ordering_tf_kernels.h5'\n",
    "weights_path = get_file('vgg19_weights_tf_dim_ordering_tf_kernels.h5',\n",
    "                         WEIGHTS_PATH,\n",
    "                         cache_subdir='models')\n"
   ]
  },
  {
   "cell_type": "code",
   "execution_count": 0,
   "metadata": {
    "colab": {},
    "colab_type": "code",
    "id": "_AhQH7VxLfIg"
   },
   "outputs": [],
   "source": [
    "fashion_mnist = keras.datasets.fashion_mnist\n",
    "\n",
    "(train_images, train_labels), (test_images, test_labels) = fashion_mnist.load_data()\n",
    "class_names = ['T-shirt/top', 'Trouser', 'Pullover', 'Dress', 'Coat',\n",
    "               'Sandal', 'Shirt', 'Sneaker', 'Bag', 'Ankle boot']\n",
    "class_names_c1 = ['Clothes', 'Goods']\n",
    "class_names_c2 = ['Tops', 'Bottoms', 'Dresses', 'Outers', 'Accessories', 'Shoes']"
   ]
  },
  {
   "cell_type": "code",
   "execution_count": 0,
   "metadata": {
    "colab": {},
    "colab_type": "code",
    "id": "GAeIK6DaLoP5"
   },
   "outputs": [],
   "source": [
    "c2_to_c1 = {0:0, 1:0, 2:0, 3:0, 4:1, 5:1}\n",
    "fine_to_c2 = {0:0, 1:1, 2:0, 3:2, 4:3, 5:5, 6:0, 7:5, 8:4, 9:5}"
   ]
  },
  {
   "cell_type": "code",
   "execution_count": 0,
   "metadata": {
    "colab": {},
    "colab_type": "code",
    "id": "E1S8yVTALvId"
   },
   "outputs": [],
   "source": [
    "def print_mappings(mapping, source, dest):\n",
    "    for k,v in mapping.items():\n",
    "        print(source[k], \"->\", dest[v])"
   ]
  },
  {
   "cell_type": "code",
   "execution_count": 40,
   "metadata": {
    "colab": {
     "base_uri": "https://localhost:8080/",
     "height": 312
    },
    "colab_type": "code",
    "id": "1vrkwKdlL0Vw",
    "outputId": "7f2aac37-7188-4b62-f7d9-fed992cf9c0e"
   },
   "outputs": [
    {
     "name": "stdout",
     "output_type": "stream",
     "text": [
      "Tops -> Clothes\n",
      "Bottoms -> Clothes\n",
      "Dresses -> Clothes\n",
      "Outers -> Clothes\n",
      "Accessories -> Goods\n",
      "Shoes -> Goods\n",
      "----------\n",
      "T-shirt/top -> Tops\n",
      "Trouser -> Bottoms\n",
      "Pullover -> Tops\n",
      "Dress -> Dresses\n",
      "Coat -> Outers\n",
      "Sandal -> Shoes\n",
      "Shirt -> Tops\n",
      "Sneaker -> Shoes\n",
      "Bag -> Accessories\n",
      "Ankle boot -> Shoes\n"
     ]
    }
   ],
   "source": [
    "print_mappings(c2_to_c1, class_names_c2, class_names_c1)\n",
    "print(\"-\"*10)\n",
    "print_mappings(fine_to_c2, class_names, class_names_c2)"
   ]
  },
  {
   "cell_type": "code",
   "execution_count": 41,
   "metadata": {
    "colab": {
     "base_uri": "https://localhost:8080/",
     "height": 34
    },
    "colab_type": "code",
    "id": "STVNReKXL83L",
    "outputId": "1c4bc6c1-9b88-4683-ee21-26e2f6bda056"
   },
   "outputs": [
    {
     "data": {
      "text/plain": [
       "(60000, 28, 28)"
      ]
     },
     "execution_count": 41,
     "metadata": {
      "tags": []
     },
     "output_type": "execute_result"
    }
   ],
   "source": [
    "train_images.shape"
   ]
  },
  {
   "cell_type": "code",
   "execution_count": 42,
   "metadata": {
    "colab": {
     "base_uri": "https://localhost:8080/",
     "height": 34
    },
    "colab_type": "code",
    "id": "U6lMdKPgMNoZ",
    "outputId": "aff070cb-ba30-4cfa-85f0-60028251ad78"
   },
   "outputs": [
    {
     "data": {
      "text/plain": [
       "(60000, 10)"
      ]
     },
     "execution_count": 42,
     "metadata": {
      "tags": []
     },
     "output_type": "execute_result"
    }
   ],
   "source": [
    "train_labels_fine = to_categorical(train_labels)\n",
    "train_labels_fine.shape"
   ]
  },
  {
   "cell_type": "code",
   "execution_count": 43,
   "metadata": {
    "colab": {
     "base_uri": "https://localhost:8080/",
     "height": 34
    },
    "colab_type": "code",
    "id": "cPYjd6KjMxt0",
    "outputId": "4cd67f10-9c49-4125-b454-a213d31969ce"
   },
   "outputs": [
    {
     "data": {
      "text/plain": [
       "(10000, 10)"
      ]
     },
     "execution_count": 43,
     "metadata": {
      "tags": []
     },
     "output_type": "execute_result"
    }
   ],
   "source": [
    "test_labels_fine = to_categorical(test_labels)\n",
    "test_labels_fine.shape"
   ]
  },
  {
   "cell_type": "code",
   "execution_count": 44,
   "metadata": {
    "colab": {
     "base_uri": "https://localhost:8080/",
     "height": 34
    },
    "colab_type": "code",
    "id": "MlgD2lWQM2nH",
    "outputId": "0169f03a-bd83-4342-e2d1-a411a44711fd"
   },
   "outputs": [
    {
     "data": {
      "text/plain": [
       "(60000, 6)"
      ]
     },
     "execution_count": 44,
     "metadata": {
      "tags": []
     },
     "output_type": "execute_result"
    }
   ],
   "source": [
    "train_labels_c2_index = [fine_to_c2[i] for i in train_labels]\n",
    "train_labels_c2 = to_categorical(train_labels_c2_index)\n",
    "train_labels_c2.shape"
   ]
  },
  {
   "cell_type": "code",
   "execution_count": 45,
   "metadata": {
    "colab": {
     "base_uri": "https://localhost:8080/",
     "height": 34
    },
    "colab_type": "code",
    "id": "sBOLQ9p7M6qh",
    "outputId": "aa7b16c3-528a-494b-b0f3-56f82782806e"
   },
   "outputs": [
    {
     "data": {
      "text/plain": [
       "(10000, 6)"
      ]
     },
     "execution_count": 45,
     "metadata": {
      "tags": []
     },
     "output_type": "execute_result"
    }
   ],
   "source": [
    "test_labels_c2_index = [fine_to_c2[i] for i in test_labels]\n",
    "test_labels_c2 = to_categorical(test_labels_c2_index)\n",
    "test_labels_c2.shape"
   ]
  },
  {
   "cell_type": "code",
   "execution_count": 46,
   "metadata": {
    "colab": {
     "base_uri": "https://localhost:8080/",
     "height": 34
    },
    "colab_type": "code",
    "id": "T2GVGO_GM-3o",
    "outputId": "b4aa539b-5466-46fb-830d-0c4e011328c1"
   },
   "outputs": [
    {
     "data": {
      "text/plain": [
       "(60000, 2)"
      ]
     },
     "execution_count": 46,
     "metadata": {
      "tags": []
     },
     "output_type": "execute_result"
    }
   ],
   "source": [
    "train_labels_c1_index = [c2_to_c1[i] for i in train_labels_c2_index]\n",
    "train_labels_c1 = to_categorical(train_labels_c1_index)\n",
    "train_labels_c1.shape"
   ]
  },
  {
   "cell_type": "code",
   "execution_count": 47,
   "metadata": {
    "colab": {
     "base_uri": "https://localhost:8080/",
     "height": 34
    },
    "colab_type": "code",
    "id": "xtlpm0DJNBmG",
    "outputId": "0e189fbb-ae39-4963-a2f6-1b2441d64735"
   },
   "outputs": [
    {
     "data": {
      "text/plain": [
       "(10000, 2)"
      ]
     },
     "execution_count": 47,
     "metadata": {
      "tags": []
     },
     "output_type": "execute_result"
    }
   ],
   "source": [
    "test_labels_c1_index = [c2_to_c1[i] for i in test_labels_c2_index]\n",
    "test_labels_c1 = to_categorical(test_labels_c1_index)\n",
    "test_labels_c1.shape"
   ]
  },
  {
   "cell_type": "code",
   "execution_count": 0,
   "metadata": {
    "colab": {},
    "colab_type": "code",
    "id": "r3179R2aNGzh"
   },
   "outputs": [],
   "source": [
    "x_train = train_images[..., np.newaxis]/255.0\n",
    "x_test = test_images[..., np.newaxis]/255.0\n",
    "\n",
    "y_train = train_labels_fine\n",
    "y_test = test_labels_fine\n",
    "\n",
    "y_c1_train = train_labels_c1\n",
    "y_c1_test = test_labels_c1\n",
    "\n",
    "y_c2_train = train_labels_c2\n",
    "y_c2_test = test_labels_c2"
   ]
  },
  {
   "cell_type": "code",
   "execution_count": 49,
   "metadata": {
    "colab": {
     "base_uri": "https://localhost:8080/",
     "height": 156
    },
    "colab_type": "code",
    "id": "FqkByeIiNLFz",
    "outputId": "06b65bef-505f-47c8-f153-cb44e6b776e1"
   },
   "outputs": [
    {
     "name": "stdout",
     "output_type": "stream",
     "text": [
      "x_train shape:  (60000, 28, 28, 1)\n",
      "x_test shape:  (10000, 28, 28, 1)\n",
      "y_train shape:  (60000, 10)\n",
      "y_test shape:  (10000, 10)\n",
      "y_c1_train shape:  (60000, 2)\n",
      "y_c1_test shape:  (10000, 2)\n",
      "y_c2_train shape:  (60000, 6)\n",
      "y_c2_test shape:  (10000, 6)\n"
     ]
    }
   ],
   "source": [
    "print(\"x_train shape: \", x_train.shape)\n",
    "print(\"x_test shape: \", x_test.shape)\n",
    "\n",
    "print(\"y_train shape: \", y_train.shape)\n",
    "print(\"y_test shape: \", y_test.shape)\n",
    "print(\"y_c1_train shape: \", y_c1_train.shape)\n",
    "print(\"y_c1_test shape: \", y_c1_test.shape)\n",
    "print(\"y_c2_train shape: \", y_c2_train.shape)\n",
    "print(\"y_c2_test shape: \", y_c2_test.shape)"
   ]
  },
  {
   "cell_type": "code",
   "execution_count": 50,
   "metadata": {
    "colab": {
     "base_uri": "https://localhost:8080/",
     "height": 34
    },
    "colab_type": "code",
    "id": "SO_ymAAPNRmQ",
    "outputId": "5f068bcf-3b2b-42f2-b6d8-799eb8ab3d7d"
   },
   "outputs": [
    {
     "data": {
      "text/plain": [
       "<tf.Tensor 'input:0' shape=(None, 28, 28, 1) dtype=float32>"
      ]
     },
     "execution_count": 50,
     "metadata": {
      "tags": []
     },
     "output_type": "execute_result"
    }
   ],
   "source": [
    "#----------------------- model definition ---------------------------\n",
    "alpha = K.variable(value=0.98, dtype=\"float32\", name=\"alpha\") # A1 in paper\n",
    "beta = K.variable(value=0.01, dtype=\"float32\", name=\"beta\") # A2 in paper\n",
    "gamma = K.variable(value=0.01, dtype=\"float32\", name=\"gamma\") # A3 in paper\n",
    "\n",
    "img_input = Input(shape=input_shape, name='input')\n",
    "img_input"
   ]
  },
  {
   "cell_type": "code",
   "execution_count": 0,
   "metadata": {
    "colab": {},
    "colab_type": "code",
    "id": "Sx6wNdcaNl6K"
   },
   "outputs": [],
   "source": [
    "#--- block 1 ---\n",
    "x = Conv2D(64, (3, 3), activation='relu', padding='same', name='block1_conv1')(img_input)\n",
    "x = BatchNormalization()(x)\n",
    "x = Conv2D(64, (3, 3), activation='relu', padding='same', name='block1_conv2')(x)\n",
    "x = BatchNormalization()(x)\n",
    "x = MaxPooling2D((2, 2), strides=(2, 2), name='block1_pool')(x)\n",
    "\n",
    "#--- block 2 ---\n",
    "x = Conv2D(128, (3, 3), activation='relu', padding='same', name='block2_conv1')(x)\n",
    "x = BatchNormalization()(x)\n",
    "x = Conv2D(128, (3, 3), activation='relu', padding='same', name='block2_conv2')(x)\n",
    "x = BatchNormalization()(x)\n",
    "x = MaxPooling2D((2, 2), strides=(2, 2), name='block2_pool')(x)\n",
    "\n",
    "#--- coarse 1 branch ---\n",
    "c_1_bch = Flatten(name='c1_flatten')(x)\n",
    "c_1_bch = Dense(256, activation='relu', name='c1_fc_cifar10_1')(c_1_bch)\n",
    "c_1_bch = BatchNormalization()(c_1_bch)\n",
    "c_1_bch = Dropout(0.5)(c_1_bch)\n",
    "c_1_bch = Dense(256, activation='relu', name='c1_fc2')(c_1_bch)\n",
    "c_1_bch = BatchNormalization()(c_1_bch)\n",
    "c_1_bch = Dropout(0.5)(c_1_bch)\n",
    "c_1_pred = Dense(coarse1_classes, activation='softmax', name='c1_predictions_cifar10')(c_1_bch)\n",
    "\n",
    "#--- block 3 ---\n",
    "x = Conv2D(256, (3, 3), activation='relu', padding='same', name='block3_conv1')(x)\n",
    "x = BatchNormalization()(x)\n",
    "x = Conv2D(256, (3, 3), activation='relu', padding='same', name='block3_conv2')(x)\n",
    "x = BatchNormalization()(x)\n",
    "x = Conv2D(256, (3, 3), activation='relu', padding='same', name='block3_conv3')(x)\n",
    "x = BatchNormalization()(x)\n",
    "x = Conv2D(256, (3, 3), activation='relu', padding='same', name='block3_conv4')(x)\n",
    "x = BatchNormalization()(x)\n",
    "x = MaxPooling2D((2, 2), strides=(2, 2), name='block3_pool')(x)\n",
    "\n",
    "#--- coarse 2 branch ---\n",
    "c_2_bch = Flatten(name='c2_flatten')(x)\n",
    "c_2_bch = Dense(1024, activation='relu', name='c2_fc_cifar100_1')(c_2_bch)\n",
    "c_2_bch = BatchNormalization()(c_2_bch)\n",
    "c_2_bch = Dropout(0.5)(c_2_bch)\n",
    "c_2_bch = Dense(1024, activation='relu', name='c2_fc2')(c_2_bch)\n",
    "c_2_bch = BatchNormalization()(c_2_bch)\n",
    "c_2_bch = Dropout(0.5)(c_2_bch)\n",
    "c_2_pred = Dense(coarse2_classes, activation='softmax', name='c2_predictions_cifar100')(c_2_bch)\n",
    "\n",
    "#--- block 4 ---\n",
    "x = Conv2D(512, (3, 3), activation='relu', padding='same', name='block4_conv1')(x)\n",
    "x = BatchNormalization()(x)\n",
    "x = Conv2D(512, (3, 3), activation='relu', padding='same', name='block4_conv2')(x)\n",
    "x = BatchNormalization()(x)\n",
    "x = Conv2D(512, (3, 3), activation='relu', padding='same', name='block4_conv3')(x)\n",
    "x = BatchNormalization()(x)\n",
    "x = Conv2D(512, (3, 3), activation='relu', padding='same', name='block4_conv4')(x)\n",
    "x = BatchNormalization()(x)\n",
    "x = MaxPooling2D((2, 2), strides=(2, 2), name='block4_pool')(x)\n",
    "\n",
    "\n",
    "#--- block 5 ---\n",
    "x = Conv2D(512, (3, 3), activation='relu', padding='same', name='block5_conv1')(x)\n",
    "x = BatchNormalization()(x)\n",
    "x = Conv2D(512, (3, 3), activation='relu', padding='same', name='block5_conv2')(x)\n",
    "x = BatchNormalization()(x)\n",
    "x = Conv2D(512, (3, 3), activation='relu', padding='same', name='block5_conv3')(x)\n",
    "x = BatchNormalization()(x)\n",
    "x = Conv2D(512, (3, 3), activation='relu', padding='same', name='block5_conv4')(x)\n",
    "x = BatchNormalization()(x)\n",
    "\n",
    "#--- fine block ---\n",
    "x = Flatten(name='flatten')(x)\n",
    "x = Dense(4096, activation='relu', name='fc_cifar100_1')(x)\n",
    "x = BatchNormalization()(x)\n",
    "x = Dropout(0.5)(x)\n",
    "x = Dense(4096, activation='relu', name='fc_cifar100_2')(x)\n",
    "x = BatchNormalization()(x)\n",
    "x = Dropout(0.5)(x)\n",
    "fine_pred = Dense(num_classes, activation='softmax', name='predictions_cifar100')(x)\n",
    "\n",
    "model = Model(img_input, [c_1_pred, c_2_pred, fine_pred], name='vgg19_hierarchy')\n",
    "#model.load_weights(weights_path, by_name=True)"
   ]
  },
  {
   "cell_type": "code",
   "execution_count": 0,
   "metadata": {
    "colab": {
     "base_uri": "https://localhost:8080/",
     "height": 298
    },
    "colab_type": "code",
    "id": "NdRDOOrSPZAx",
    "outputId": "d588b808-03c4-4fce-b9c7-d08e92b2048e"
   },
   "outputs": [
    {
     "name": "stdout",
     "output_type": "stream",
     "text": [
      "Train on 60000 samples, validate on 10000 samples\n",
      "Epoch 1/60\n",
      "60000/60000 [==============================] - 93s 2ms/step - loss: 0.0972 - c1_predictions_cifar10_loss: 0.0564 - c2_predictions_cifar100_loss: 1.4974 - predictions_cifar100_loss: 2.6957 - c1_predictions_cifar10_accuracy: 0.9814 - c2_predictions_cifar100_accuracy: 0.5238 - predictions_cifar100_accuracy: 0.2698 - val_loss: 0.1096 - val_c1_predictions_cifar10_loss: 0.0760 - val_c2_predictions_cifar100_loss: 1.4762 - val_predictions_cifar100_loss: 2.2220 - val_c1_predictions_cifar10_accuracy: 0.9733 - val_c2_predictions_cifar100_accuracy: 0.4295 - val_predictions_cifar100_accuracy: 0.2011\n",
      "Epoch 2/60\n",
      "60000/60000 [==============================] - 83s 1ms/step - loss: 0.0459 - c1_predictions_cifar10_loss: 0.0261 - c2_predictions_cifar100_loss: 0.6937 - predictions_cifar100_loss: 1.3324 - c1_predictions_cifar10_accuracy: 0.9924 - c2_predictions_cifar100_accuracy: 0.7669 - predictions_cifar100_accuracy: 0.5928 - val_loss: 0.0278 - val_c1_predictions_cifar10_loss: 0.0166 - val_c2_predictions_cifar100_loss: 0.3636 - val_predictions_cifar100_loss: 0.7766 - val_c1_predictions_cifar10_accuracy: 0.9951 - val_c2_predictions_cifar100_accuracy: 0.8730 - val_predictions_cifar100_accuracy: 0.7308\n",
      "Epoch 3/60\n",
      "60000/60000 [==============================] - 82s 1ms/step - loss: 0.0352 - c1_predictions_cifar10_loss: 0.0202 - c2_predictions_cifar100_loss: 0.5505 - predictions_cifar100_loss: 0.9884 - c1_predictions_cifar10_accuracy: 0.9940 - c2_predictions_cifar100_accuracy: 0.8170 - predictions_cifar100_accuracy: 0.6962 - val_loss: 0.0237 - val_c1_predictions_cifar10_loss: 0.0141 - val_c2_predictions_cifar100_loss: 0.3298 - val_predictions_cifar100_loss: 0.6423 - val_c1_predictions_cifar10_accuracy: 0.9957 - val_c2_predictions_cifar100_accuracy: 0.8852 - val_predictions_cifar100_accuracy: 0.7724\n",
      "Epoch 4/60\n",
      "60000/60000 [==============================] - 83s 1ms/step - loss: 0.0305 - c1_predictions_cifar10_loss: 0.0176 - c2_predictions_cifar100_loss: 0.4827 - predictions_cifar100_loss: 0.8444 - c1_predictions_cifar10_accuracy: 0.9951 - c2_predictions_cifar100_accuracy: 0.8415 - predictions_cifar100_accuracy: 0.7380 - val_loss: 0.0219 - val_c1_predictions_cifar10_loss: 0.0130 - val_c2_predictions_cifar100_loss: 0.3048 - val_predictions_cifar100_loss: 0.5948 - val_c1_predictions_cifar10_accuracy: 0.9963 - val_c2_predictions_cifar100_accuracy: 0.8916 - val_predictions_cifar100_accuracy: 0.8003\n",
      "Epoch 5/60\n",
      "60000/60000 [==============================] - 83s 1ms/step - loss: 0.0262 - c1_predictions_cifar10_loss: 0.0146 - c2_predictions_cifar100_loss: 0.4360 - predictions_cifar100_loss: 0.7561 - c1_predictions_cifar10_accuracy: 0.9957 - c2_predictions_cifar100_accuracy: 0.8543 - predictions_cifar100_accuracy: 0.7663 - val_loss: 0.0189 - val_c1_predictions_cifar10_loss: 0.0106 - val_c2_predictions_cifar100_loss: 0.2811 - val_predictions_cifar100_loss: 0.5529 - val_c1_predictions_cifar10_accuracy: 0.9971 - val_c2_predictions_cifar100_accuracy: 0.8967 - val_predictions_cifar100_accuracy: 0.8078\n",
      "Epoch 6/60\n",
      "60000/60000 [==============================] - 82s 1ms/step - loss: 0.0229 - c1_predictions_cifar10_loss: 0.0122 - c2_predictions_cifar100_loss: 0.4079 - predictions_cifar100_loss: 0.6903 - c1_predictions_cifar10_accuracy: 0.9964 - c2_predictions_cifar100_accuracy: 0.8626 - predictions_cifar100_accuracy: 0.7831 - val_loss: 0.0191 - val_c1_predictions_cifar10_loss: 0.0114 - val_c2_predictions_cifar100_loss: 0.2721 - val_predictions_cifar100_loss: 0.5085 - val_c1_predictions_cifar10_accuracy: 0.9969 - val_c2_predictions_cifar100_accuracy: 0.9047 - val_predictions_cifar100_accuracy: 0.8269\n",
      "Epoch 7/60\n",
      "23168/60000 [==========>...................] - ETA: 48s - loss: 0.0229 - c1_predictions_cifar10_loss: 0.0126 - c2_predictions_cifar100_loss: 0.3929 - predictions_cifar100_loss: 0.6623 - c1_predictions_cifar10_accuracy: 0.9963 - c2_predictions_cifar100_accuracy: 0.8679 - predictions_cifar100_accuracy: 0.7943"
     ]
    }
   ],
   "source": [
    "#----------------------- compile and fit ---------------------------\n",
    "sgd = optimizers.SGD(lr=0.001, momentum=0.9, nesterov=True)\n",
    "model.compile(loss='categorical_crossentropy', \n",
    "              optimizer=sgd, \n",
    "              loss_weights=[alpha, beta, gamma], \n",
    "              # optimizer=keras.optimizers.Adadelta(),\n",
    "              metrics=['accuracy'])\n",
    "tb_cb = TensorBoard(log_dir=log_filepath, histogram_freq=0)\n",
    "change_lr = LearningRateScheduler(scheduler)\n",
    "change_lw = LossWeightsModifier(alpha, beta, gamma)\n",
    "cbks = [change_lr, tb_cb, change_lw]\n",
    "\n",
    "model.fit(x_train, [y_c1_train, y_c2_train, y_train],\n",
    "          batch_size=batch_size,\n",
    "          epochs=epochs,\n",
    "          verbose=1,\n",
    "          callbacks=cbks,\n",
    "          validation_data=(x_test, [y_c1_test, y_c2_test, y_test]))"
   ]
  },
  {
   "cell_type": "code",
   "execution_count": 0,
   "metadata": {
    "colab": {},
    "colab_type": "code",
    "id": "fgiANlGrPl1e"
   },
   "outputs": [],
   "source": [
    "model.compile(loss=keras.losses.categorical_crossentropy,\n",
    "              # optimizer=keras.optimizers.Adadelta(),\n",
    "              optimizer=sgd, \n",
    "              metrics=['accuracy'])\n",
    "\n",
    "model.save(model_path)\n",
    "score = model.evaluate(x_test, [y_c1_test, y_c2_test, y_test], verbose=0)\n",
    "print('score is: ', score)"
   ]
  },
  {
   "cell_type": "code",
   "execution_count": 1,
   "metadata": {},
   "outputs": [],
   "source": [
    "import numpy as np\n",
    "import pandas as pd"
   ]
  },
  {
   "cell_type": "code",
   "execution_count": 15,
   "metadata": {},
   "outputs": [],
   "source": [
    "class_names = ['T-shirt', 'Trouser', 'Pullover', 'Dress', 'Coat',\n",
    "               'Sandal', 'Shirt', 'Sneaker', 'Bag', 'Ankle boot']"
   ]
  },
  {
   "cell_type": "code",
   "execution_count": 3,
   "metadata": {},
   "outputs": [],
   "source": [
    "confusion_matrix = np.array([[873,   0,  16,  14,   4,   1,  85,   0,   7,   0],\n",
    "       [  1, 986,   1,   8,   2,   0,   0,   0,   2,   0],\n",
    "       [ 15,   0, 908,   8,  31,   0,  38,   0,   0,   0],\n",
    "       [ 11,   1,   8, 948,  15,   0,  17,   0,   0,   0],\n",
    "       [  0,   1,  30,  20, 912,   0,  36,   0,   1,   0],\n",
    "       [  0,   0,   0,   0,   0, 983,   0,  11,   1,   5],\n",
    "       [ 88,   0,  45,  17,  59,   0, 787,   0,   4,   0],\n",
    "       [  0,   0,   0,   0,   0,   2,   0, 986,   0,  12],\n",
    "       [  1,   0,   0,   4,   2,   1,   2,   1, 989,   0],\n",
    "       [  1,   0,   0,   0,   0,   5,   0,  30,   0, 964]])"
   ]
  },
  {
   "cell_type": "code",
   "execution_count": 4,
   "metadata": {},
   "outputs": [
    {
     "data": {
      "text/plain": [
       "['T-shirt/top',\n",
       " 'Trouser',\n",
       " 'Pullover',\n",
       " 'Dress',\n",
       " 'Coat',\n",
       " 'Sandal',\n",
       " 'Shirt',\n",
       " 'Sneaker',\n",
       " 'Bag',\n",
       " 'Ankle boot']"
      ]
     },
     "execution_count": 4,
     "metadata": {},
     "output_type": "execute_result"
    }
   ],
   "source": [
    "class_names"
   ]
  },
  {
   "cell_type": "code",
   "execution_count": 5,
   "metadata": {},
   "outputs": [
    {
     "data": {
      "text/plain": [
       "array([[873,   0,  16,  14,   4,   1,  85,   0,   7,   0],\n",
       "       [  1, 986,   1,   8,   2,   0,   0,   0,   2,   0],\n",
       "       [ 15,   0, 908,   8,  31,   0,  38,   0,   0,   0],\n",
       "       [ 11,   1,   8, 948,  15,   0,  17,   0,   0,   0],\n",
       "       [  0,   1,  30,  20, 912,   0,  36,   0,   1,   0],\n",
       "       [  0,   0,   0,   0,   0, 983,   0,  11,   1,   5],\n",
       "       [ 88,   0,  45,  17,  59,   0, 787,   0,   4,   0],\n",
       "       [  0,   0,   0,   0,   0,   2,   0, 986,   0,  12],\n",
       "       [  1,   0,   0,   4,   2,   1,   2,   1, 989,   0],\n",
       "       [  1,   0,   0,   0,   0,   5,   0,  30,   0, 964]])"
      ]
     },
     "execution_count": 5,
     "metadata": {},
     "output_type": "execute_result"
    }
   ],
   "source": [
    "confusion_matrix"
   ]
  },
  {
   "cell_type": "code",
   "execution_count": 26,
   "metadata": {},
   "outputs": [
    {
     "data": {
      "text/html": [
       "<div>\n",
       "<style scoped>\n",
       "    .dataframe tbody tr th:only-of-type {\n",
       "        vertical-align: middle;\n",
       "    }\n",
       "\n",
       "    .dataframe tbody tr th {\n",
       "        vertical-align: top;\n",
       "    }\n",
       "\n",
       "    .dataframe thead th {\n",
       "        text-align: right;\n",
       "    }\n",
       "</style>\n",
       "<table border=\"1\" class=\"dataframe\">\n",
       "  <thead>\n",
       "    <tr style=\"text-align: right;\">\n",
       "      <th></th>\n",
       "      <th>T-shirt</th>\n",
       "      <th>Trouser</th>\n",
       "      <th>Pullover</th>\n",
       "      <th>Dress</th>\n",
       "      <th>Coat</th>\n",
       "      <th>Sandal</th>\n",
       "      <th>Shirt</th>\n",
       "      <th>Sneaker</th>\n",
       "      <th>Bag</th>\n",
       "      <th>Ankle boot</th>\n",
       "    </tr>\n",
       "  </thead>\n",
       "  <tbody>\n",
       "    <tr>\n",
       "      <th>T-shirt</th>\n",
       "      <td>873</td>\n",
       "      <td>0</td>\n",
       "      <td>16</td>\n",
       "      <td>14</td>\n",
       "      <td>4</td>\n",
       "      <td>1</td>\n",
       "      <td>85</td>\n",
       "      <td>0</td>\n",
       "      <td>7</td>\n",
       "      <td>0</td>\n",
       "    </tr>\n",
       "    <tr>\n",
       "      <th>Trouser</th>\n",
       "      <td>1</td>\n",
       "      <td>986</td>\n",
       "      <td>1</td>\n",
       "      <td>8</td>\n",
       "      <td>2</td>\n",
       "      <td>0</td>\n",
       "      <td>0</td>\n",
       "      <td>0</td>\n",
       "      <td>2</td>\n",
       "      <td>0</td>\n",
       "    </tr>\n",
       "    <tr>\n",
       "      <th>Pullover</th>\n",
       "      <td>15</td>\n",
       "      <td>0</td>\n",
       "      <td>908</td>\n",
       "      <td>8</td>\n",
       "      <td>31</td>\n",
       "      <td>0</td>\n",
       "      <td>38</td>\n",
       "      <td>0</td>\n",
       "      <td>0</td>\n",
       "      <td>0</td>\n",
       "    </tr>\n",
       "    <tr>\n",
       "      <th>Dress</th>\n",
       "      <td>11</td>\n",
       "      <td>1</td>\n",
       "      <td>8</td>\n",
       "      <td>948</td>\n",
       "      <td>15</td>\n",
       "      <td>0</td>\n",
       "      <td>17</td>\n",
       "      <td>0</td>\n",
       "      <td>0</td>\n",
       "      <td>0</td>\n",
       "    </tr>\n",
       "    <tr>\n",
       "      <th>Coat</th>\n",
       "      <td>0</td>\n",
       "      <td>1</td>\n",
       "      <td>30</td>\n",
       "      <td>20</td>\n",
       "      <td>912</td>\n",
       "      <td>0</td>\n",
       "      <td>36</td>\n",
       "      <td>0</td>\n",
       "      <td>1</td>\n",
       "      <td>0</td>\n",
       "    </tr>\n",
       "    <tr>\n",
       "      <th>Sandal</th>\n",
       "      <td>0</td>\n",
       "      <td>0</td>\n",
       "      <td>0</td>\n",
       "      <td>0</td>\n",
       "      <td>0</td>\n",
       "      <td>983</td>\n",
       "      <td>0</td>\n",
       "      <td>11</td>\n",
       "      <td>1</td>\n",
       "      <td>5</td>\n",
       "    </tr>\n",
       "    <tr>\n",
       "      <th>Shirt</th>\n",
       "      <td>88</td>\n",
       "      <td>0</td>\n",
       "      <td>45</td>\n",
       "      <td>17</td>\n",
       "      <td>59</td>\n",
       "      <td>0</td>\n",
       "      <td>787</td>\n",
       "      <td>0</td>\n",
       "      <td>4</td>\n",
       "      <td>0</td>\n",
       "    </tr>\n",
       "    <tr>\n",
       "      <th>Sneaker</th>\n",
       "      <td>0</td>\n",
       "      <td>0</td>\n",
       "      <td>0</td>\n",
       "      <td>0</td>\n",
       "      <td>0</td>\n",
       "      <td>2</td>\n",
       "      <td>0</td>\n",
       "      <td>986</td>\n",
       "      <td>0</td>\n",
       "      <td>12</td>\n",
       "    </tr>\n",
       "    <tr>\n",
       "      <th>Bag</th>\n",
       "      <td>1</td>\n",
       "      <td>0</td>\n",
       "      <td>0</td>\n",
       "      <td>4</td>\n",
       "      <td>2</td>\n",
       "      <td>1</td>\n",
       "      <td>2</td>\n",
       "      <td>1</td>\n",
       "      <td>989</td>\n",
       "      <td>0</td>\n",
       "    </tr>\n",
       "    <tr>\n",
       "      <th>Ankle boot</th>\n",
       "      <td>1</td>\n",
       "      <td>0</td>\n",
       "      <td>0</td>\n",
       "      <td>0</td>\n",
       "      <td>0</td>\n",
       "      <td>5</td>\n",
       "      <td>0</td>\n",
       "      <td>30</td>\n",
       "      <td>0</td>\n",
       "      <td>964</td>\n",
       "    </tr>\n",
       "  </tbody>\n",
       "</table>\n",
       "</div>"
      ],
      "text/plain": [
       "            T-shirt  Trouser  Pullover  Dress  Coat  Sandal  Shirt  Sneaker  \\\n",
       "T-shirt         873        0        16     14     4       1     85        0   \n",
       "Trouser           1      986         1      8     2       0      0        0   \n",
       "Pullover         15        0       908      8    31       0     38        0   \n",
       "Dress            11        1         8    948    15       0     17        0   \n",
       "Coat              0        1        30     20   912       0     36        0   \n",
       "Sandal            0        0         0      0     0     983      0       11   \n",
       "Shirt            88        0        45     17    59       0    787        0   \n",
       "Sneaker           0        0         0      0     0       2      0      986   \n",
       "Bag               1        0         0      4     2       1      2        1   \n",
       "Ankle boot        1        0         0      0     0       5      0       30   \n",
       "\n",
       "            Bag  Ankle boot  \n",
       "T-shirt       7          0   \n",
       "Trouser       2          0   \n",
       "Pullover      0          0   \n",
       "Dress         0          0   \n",
       "Coat          1          0   \n",
       "Sandal        1          5   \n",
       "Shirt         4          0   \n",
       "Sneaker       0         12   \n",
       "Bag         989          0   \n",
       "Ankle boot    0        964   "
      ]
     },
     "execution_count": 26,
     "metadata": {},
     "output_type": "execute_result"
    }
   ],
   "source": [
    "df = pd.DataFrame(confusion_matrix, class_names, class_names)\n",
    "from IPython.core.display import HTML\n",
    "HTML(\"<style>.rendered_html th {max-width: 20px;}</style>\")\n",
    "# df.style.set_table_styles([dict(selector=\"th\",props=[('max-width', '10px')])])\n",
    "df"
   ]
  },
  {
   "cell_type": "code",
   "execution_count": null,
   "metadata": {},
   "outputs": [],
   "source": []
  }
 ],
 "metadata": {
  "accelerator": "GPU",
  "colab": {
   "collapsed_sections": [],
   "name": "MNIST-HCNN19.ipynb",
   "provenance": []
  },
  "kernelspec": {
   "display_name": "Python 3",
   "language": "python",
   "name": "python3"
  },
  "language_info": {
   "codemirror_mode": {
    "name": "ipython",
    "version": 3
   },
   "file_extension": ".py",
   "mimetype": "text/x-python",
   "name": "python",
   "nbconvert_exporter": "python",
   "pygments_lexer": "ipython3",
   "version": "3.6.9"
  }
 },
 "nbformat": 4,
 "nbformat_minor": 1
}
